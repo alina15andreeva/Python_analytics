{
 "cells": [
  {
   "cell_type": "markdown",
   "id": "cb84de90",
   "metadata": {},
   "source": [
    "## Задача 2\n",
    "\n",
    "На складе лежат разные фрукты в разном количестве.\n",
    "Нужно написать функцию, которая на вход принимает любое количество названий фруктов и их количество, а возвращает общее количество фруктов на складе"
   ]
  },
  {
   "cell_type": "code",
   "execution_count": 8,
   "id": "245265d2",
   "metadata": {},
   "outputs": [
    {
     "data": {
      "text/plain": [
       "17"
      ]
     },
     "execution_count": 8,
     "metadata": {},
     "output_type": "execute_result"
    }
   ],
   "source": [
    "def fruits(**kwargs):\n",
    "    fruits_sum = 0\n",
    "    for key, value in kwargs.items():\n",
    "        fruits_sum += value\n",
    "    return fruits_sum\n",
    "\n",
    "fruits(apples=2, oranges=5, pears=10)"
   ]
  },
  {
   "cell_type": "markdown",
   "id": "b6455aaf",
   "metadata": {},
   "source": [
    "## Задача 3\n",
    "\n",
    "Дан список с затратами на рекламу. Но в данных есть ошибки, некоторые затраты имеют отрицательную величину. Удалите такие значения из списка и посчитайте суммарные затраты"
   ]
  },
  {
   "cell_type": "code",
   "execution_count": 9,
   "id": "5d44258b",
   "metadata": {},
   "outputs": [],
   "source": [
    "spendings = [100, 125, -90, 345, 655, -1, 0, 200]"
   ]
  },
  {
   "cell_type": "markdown",
   "id": "7ac94d78",
   "metadata": {},
   "source": [
    "Используйте list comprehensions"
   ]
  },
  {
   "cell_type": "code",
   "execution_count": 12,
   "id": "085d0119",
   "metadata": {},
   "outputs": [
    {
     "data": {
      "text/plain": [
       "1425"
      ]
     },
     "execution_count": 12,
     "metadata": {},
     "output_type": "execute_result"
    }
   ],
   "source": [
    "spendings = [i for i in spendings if i >= 0]\n",
    "sum(spendings)"
   ]
  },
  {
   "cell_type": "markdown",
   "id": "cd029ab8",
   "metadata": {},
   "source": [
    "## Задача 4\n",
    "\n",
    "Даны два списка.\n",
    "Дата покупки"
   ]
  },
  {
   "cell_type": "code",
   "execution_count": 15,
   "id": "0d95fe9d",
   "metadata": {},
   "outputs": [],
   "source": [
    "dates = ['2021-09-14', '2021-12-15', '2021-09-08', '2021-12-05', '2021-10-09', '2021-09-30', '2021-12-22', '2021-11-29', '2021-12-24', '2021-11-26', '2021-10-27', '2021-12-18', '2021-11-09', '2021-11-23', '2021-09-27', '2021-10-02', '2021-12-27', '2021-09-20', '2021-12-13', '2021-11-01', '2021-11-09', '2021-12-06', '2021-12-08', '2021-10-09', '2021-10-31', '2021-09-30', '2021-11-09', '2021-12-13', '2021-10-26', '2021-12-09']"
   ]
  },
  {
   "cell_type": "markdown",
   "id": "4b9f5923",
   "metadata": {},
   "source": [
    "Суммы покупок по датам"
   ]
  },
  {
   "cell_type": "code",
   "execution_count": 16,
   "id": "cbd09403",
   "metadata": {},
   "outputs": [],
   "source": [
    "sums = [1270, 8413, 9028, 3703, 5739, 4095, 295, 4944, 5723, 3701, 4471, 651, 7037, 4274, 6275, 4988, 6930, 2971, 6592, 2004, 2822, 519, 3406, 2732, 5015, 2008, 316, 6333, 5700, 2887]"
   ]
  },
  {
   "cell_type": "markdown",
   "id": "ee5b28dd",
   "metadata": {},
   "source": [
    "### 4.1 Найдите, какая выручка у компании в ноябре\n",
    "\n",
    "Используйте list comprehensions"
   ]
  },
  {
   "cell_type": "code",
   "execution_count": 50,
   "id": "7145819c",
   "metadata": {},
   "outputs": [
    {
     "name": "stdout",
     "output_type": "stream",
     "text": [
      "25098\n"
     ]
    }
   ],
   "source": [
    "revenue_nov = sum(sums[i] for i in range(len(dates)) if dates[i][5:7] == '11')\n",
    "\n",
    "print(revenue_nov)"
   ]
  },
  {
   "cell_type": "markdown",
   "id": "f78e2880",
   "metadata": {},
   "source": [
    "### 4.2 Найдите выручку компании в зависимости от месяца\n",
    "\n",
    "Для этого напишите функцию, которая на вход принимает список с датами и список с выручкой, а на выходе словарь, где ключи - это месяцы, а значения - это выручка.\n",
    "Используйте аннотирование типов.\n"
   ]
  },
  {
   "cell_type": "code",
   "execution_count": 51,
   "id": "353fdf12",
   "metadata": {},
   "outputs": [
    {
     "data": {
      "text/plain": [
       "{'09': 25647, '12': 45452, '10': 28645, '11': 25098}"
      ]
     },
     "execution_count": 51,
     "metadata": {},
     "output_type": "execute_result"
    }
   ],
   "source": [
    "def revenue(dates: list, sums: list) -> dict:\n",
    "    revenues = {}\n",
    "    for i in range(len(dates)):\n",
    "        month = dates[i][5:7]\n",
    "        if month in revenues:\n",
    "            revenues[month] += sums[i]\n",
    "        else:\n",
    "            revenues[month] = sums[i]\n",
    "    return revenues\n",
    "\n",
    "revenue(dates, sums)"
   ]
  }
 ],
 "metadata": {
  "kernelspec": {
   "display_name": "Python 3 (ipykernel)",
   "language": "python",
   "name": "python3"
  },
  "language_info": {
   "codemirror_mode": {
    "name": "ipython",
    "version": 3
   },
   "file_extension": ".py",
   "mimetype": "text/x-python",
   "name": "python",
   "nbconvert_exporter": "python",
   "pygments_lexer": "ipython3",
   "version": "3.10.9"
  }
 },
 "nbformat": 4,
 "nbformat_minor": 5
}
